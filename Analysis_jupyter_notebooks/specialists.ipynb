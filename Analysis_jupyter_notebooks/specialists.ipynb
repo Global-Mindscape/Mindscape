  {
   "cell_type": "code",
   "execution_count": 1,
   "metadata": {},
   "outputs": [],
   "source": [
    "import pandas as pd"
   ]
  },
  {
   "cell_type": "code",
   "execution_count": 22,
   "metadata": {},
   "outputs": [],
   "source": [
    "def strip_spaces(a_str_with_spaces):\n",
    "    return a_str_with_spaces.replace(' ', '')\n",
    "\n",
    "df = pd.read_csv('lana.csv', converters={'total': strip_spaces, 'per_100000_pop': strip_spaces})"
   ]
  },
  {
   "cell_type": "code",
   "execution_count": 26,
   "metadata": {},
   "outputs": [],
   "source": [
    "# Remove commas and convert to numeric\n",
    "df[\"total\"] = pd.to_numeric(df[\"total\"], errors=\"coerce\")\n",
    "df[\"per_100000_pop\"] = pd.to_numeric(df[\"per_100000_pop\"], errors=\"coerce\")\n",
    "\n"
   ]
  },
  {
   "cell_type": "code",
   "execution_count": 27,
   "metadata": {},
   "outputs": [],
   "source": [
    "# Handle non-finite values (replace with 0)\n",
    "df.fillna(0, inplace=True)"
   ]
  },
  {
   "cell_type": "code",
   "execution_count": 28,
   "metadata": {},
   "outputs": [],
   "source": [
    "# Convert to integers\n",
    "df[\"total\"] = df[\"total\"].astype(int)\n",
    "df[\"per_100000_pop\"] = df[\"per_100000_pop\"].astype(float)"
   ]
  },
  {
   "cell_type": "code",
   "execution_count": 35,
   "metadata": {},
   "outputs": [],
   "source": [
    "#remove raws with 0 \n",
    "specialists = df[(df != 0).all(axis=1)]"
   ]
  },
  {
   "cell_type": "code",
   "execution_count": 43,
   "metadata": {},
   "outputs": [
    {
     "name": "stdout",
     "output_type": "stream",
     "text": [
      "<class 'pandas.core.frame.DataFrame'>\n",
      "Index: 146 entries, 0 to 163\n",
      "Data columns (total 3 columns):\n",
      " #   Column          Non-Null Count  Dtype  \n",
      "---  ------          --------------  -----  \n",
      " 0   country         146 non-null    object \n",
      " 1   total           146 non-null    int64  \n",
      " 2   per_100000_pop  146 non-null    float64\n",
      "dtypes: float64(1), int64(1), object(1)\n",
      "memory usage: 4.6+ KB\n"
     ]
    }
   ],
   "source": [
    "specialists.info()"
   ]
  },
  {
   "cell_type": "code",
   "execution_count": 2,
   "metadata": {},
   "outputs": [],
   "source": [
    "mental_illnesses = pd.read_csv('mental_illnesses_prevalence.csv')"
   ]
  },
  {
   "cell_type": "code",
   "execution_count": 54,
   "metadata": {},
   "outputs": [],
   "source": [
    "# Extract the first two words from each column name\n",
    "mental_illnesses.columns = mental_illnesses.columns.str.split().str[:2].str.join(' ')"
   ]
  },
  {
   "cell_type": "code",
   "execution_count": 56,
   "metadata": {},
   "outputs": [],
   "source": [
    "# Rename the column \"Entity\" to \"Country\"\n",
    "mental_illnesses.rename(columns={'Entity': 'country'}, inplace=True)"
   ]
  },
  {
   "cell_type": "code",
   "execution_count": 58,
   "metadata": {},
   "outputs": [],
   "source": [
    "# Convert column names to lowercase and replace spaces with underscores\n",
    "mental_illnesses.columns = mental_illnesses.columns.str.lower().str.replace(' ', '_')"
   ]
  },
  {
   "cell_type": "code",
   "execution_count": 4,
   "metadata": {},
   "outputs": [
    {
     "name": "stdout",
     "output_type": "stream",
     "text": [
      "<class 'pandas.core.frame.DataFrame'>\n",
      "RangeIndex: 6150 entries, 0 to 6149\n",
      "Data columns (total 8 columns):\n",
      " #   Column                   Non-Null Count  Dtype  \n",
      "---  ------                   --------------  -----  \n",
      " 0   country                  6150 non-null   object \n",
      " 1   code                     6150 non-null   object \n",
      " 2   year                     6150 non-null   int64  \n",
      " 3   schizophrenia_disorders  6150 non-null   float64\n",
      " 4   depressive_disorders     6150 non-null   float64\n",
      " 5   anxiety_disorders        6150 non-null   float64\n",
      " 6   bipolar_disorders        6150 non-null   float64\n",
      " 7   eating_disorders         6150 non-null   float64\n",
      "dtypes: float64(5), int64(1), object(2)\n",
      "memory usage: 384.5+ KB\n"
     ]
    }
   ],
   "source": [
    "mental_illnesses.info()"
   ]
  },
  {
   "cell_type": "code",
   "execution_count": 88,
   "metadata": {},
   "outputs": [],
   "source": [
    "mental_illnesses.to_csv('mental_illnesses_prevalence.csv', index=False)"
   ]
  },
  {
   "cell_type": "code",
   "execution_count": 64,
   "metadata": {},
   "outputs": [],
   "source": [
    "# Filter 'mental_illnesses' for the year 2019 to be able to join column code \n",
    "mental_illnesses_2019 = mental_illnesses[mental_illnesses['year'] == 2019]"
   ]
  },
  {
   "cell_type": "code",
   "execution_count": 67,
   "metadata": {},
   "outputs": [],
   "source": [
    "# add column code to specialists\n",
    "specialists_code = pd.merge(specialists, mental_illnesses_2019, on='country', how='left')"
   ]
  },
  {
   "cell_type": "code",
   "execution_count": 71,
   "metadata": {},
   "outputs": [],
   "source": [
    "specialists_code.drop(['year', 'schizophrenia_disorders', 'depressive_disorders', 'anxiety_disorders', 'bipolar_disorders', 'eating_disorders'  ], axis=1, inplace=True)"
   ]
  },
  {
   "cell_type": "code",
   "execution_count": 75,
   "metadata": {},
   "outputs": [],
   "source": [
    "specialists_code.to_csv('specialists.csv', index=False)"
   ]
  },
  {
   "cell_type": "code",
   "execution_count": 6,
   "metadata": {},
   "outputs": [],
   "source": [
    "specialists_final = pd.read_csv('specialists_final.csv')"
   ]
  },
  {
   "cell_type": "code",
   "execution_count": 7,
   "metadata": {},
   "outputs": [
    {
     "name": "stdout",
     "output_type": "stream",
     "text": [
      "<class 'pandas.core.frame.DataFrame'>\n",
      "RangeIndex: 146 entries, 0 to 145\n",
      "Data columns (total 4 columns):\n",
      " #   Column          Non-Null Count  Dtype  \n",
      "---  ------          --------------  -----  \n",
      " 0   country         146 non-null    object \n",
      " 1   total           146 non-null    int64  \n",
      " 2   per_100000_pop  146 non-null    float64\n",
      " 3   code            146 non-null    object \n",
      "dtypes: float64(1), int64(1), object(2)\n",
      "memory usage: 4.7+ KB\n"
     ]
    }
   ],
   "source": [
    "specialists_final.info()"
   ]
  },
  {
   "cell_type": "code",
   "execution_count": 8,
   "metadata": {},
   "outputs": [],
   "source": [
    "dealing = pd.read_csv('dealing_with_anxiety_depression.csv')"
   ]
  },
  {
   "cell_type": "code",
   "execution_count": 82,
   "metadata": {},
   "outputs": [],
   "source": [
    "dealing.rename(columns={'Entity': 'country'}, inplace=True)\n",
    "dealing.columns = dealing.columns.str.lower().str.replace(' ', '_').str.replace('/', '_')"
   ]
  },
  {
   "cell_type": "code",
   "execution_count": 9,
   "metadata": {},
   "outputs": [
    {
     "name": "stdout",
     "output_type": "stream",
     "text": [
      "<class 'pandas.core.frame.DataFrame'>\n",
      "RangeIndex: 102 entries, 0 to 101\n",
      "Data columns (total 11 columns):\n",
      " #   Column                                              Non-Null Count  Dtype  \n",
      "---  ------                                              --------------  -----  \n",
      " 0   country                                             102 non-null    object \n",
      " 1   code                                                102 non-null    object \n",
      " 2   year                                                102 non-null    int64  \n",
      " 3   engaged_in_religious_spiritual_activities           101 non-null    float64\n",
      " 4   improved_healthy_lifestyle_behaviors                102 non-null    float64\n",
      " 5   made_a_change_to_work_situation                     102 non-null    float64\n",
      " 6   made_a_change_to_personal_relationships             102 non-null    float64\n",
      " 7   talked_to_friends_or_family_when_anxious_depressed  102 non-null    float64\n",
      " 8   took_prescribed_medication_when_anxious_depressed   102 non-null    float64\n",
      " 9   spent_time_in_nature_the_outdoors                   102 non-null    float64\n",
      " 10  talked_to_mental_health_professional                102 non-null    float64\n",
      "dtypes: float64(8), int64(1), object(2)\n",
      "memory usage: 8.9+ KB\n"
     ]
    }
   ],
   "source": [
    "dealing.info()"
   ]
  },
  {
   "cell_type": "code",
   "execution_count": 86,
   "metadata": {},
   "outputs": [],
   "source": [
    "dealing.to_csv('dealing_with_anxiety_depression.csv', index=False)"
   ]
  },
  {
   "cell_type": "code",
   "execution_count": 21,
   "metadata": {},
   "outputs": [],
   "source": [
    "# Import get_engine from sql_functions.py. You will need to restart your kernel and rerun at this point since we changed the module since we first imported it.\n",
    "from sql_functions import get_engine \n",
    "# create a variable called engine using the get_engine function\n",
    "engine = get_engine()"
   ]
  },
  {
   "cell_type": "code",
   "execution_count": 22,
   "metadata": {},
   "outputs": [],
   "source": [
    "# Set the schema to your course name and the table_name variable to 'carriers_' + your initials/group number\n",
    "\n",
    "schema = 'cgn_analytics_24_1' # your course schema name, example 'hh_analytics_22_1\n",
    "table_name = 'lana_specialists' # Example: 'carriers_pw' for Philipp Wendt"
   ]
  },
  {
   "cell_type": "code",
   "execution_count": 23,
   "metadata": {},
   "outputs": [],
   "source": [
    "# we need psycopg2 for raising possible error message\n",
    "import psycopg2"
   ]
  },
  {
   "cell_type": "code",
   "execution_count": 24,
   "metadata": {},
   "outputs": [
    {
     "name": "stdout",
     "output_type": "stream",
     "text": [
      "The lana_specialists table was imported successfully.\n"
     ]
    }
   ],
   "source": [
    "# Write records stored in a dataframe to SQL database\n",
    "if engine!=None:\n",
    "    try:\n",
    "        specialists_final.to_sql(name=table_name, # Name of SQL table variable\n",
    "                        con=engine, # Engine or connection\n",
    "                        schema='cgn_analytics_24_1', # your class schema variable\n",
    "                        if_exists='replace', # Drop the table before inserting new values \n",
    "                        index=False, # Write DataFrame index as a column\n",
    "                        chunksize=5000, # Specify the number of rows in each batch to be written at a time\n",
    "                        method='multi') # Pass multiple values in a single INSERT clause\n",
    "        print(f\"The {table_name} table was imported successfully.\")\n",
    "    # Error handling\n",
    "    except (Exception, psycopg2.DatabaseError) as error:\n",
    "        print(error)\n",
    "        engine = None\n",
    "else:\n",
    "    print('No engine')"
   ]
  },
  {
   "cell_type": "code",
   "execution_count": 25,
   "metadata": {},
   "outputs": [
    {
     "name": "stdout",
     "output_type": "stream",
     "text": [
      "The table was imported successfully.\n"
     ]
    }
   ],
   "source": [
    "# Write records stored in a dataframe to SQL database\n",
    "if engine!=None:\n",
    "    try:\n",
    "        dealing.to_sql(name='lana_dealing', # Name of SQL table variable\n",
    "                        con=engine, # Engine or connection\n",
    "                        schema='cgn_analytics_24_1', # your class schema variable\n",
    "                        if_exists='replace', # Drop the table before inserting new values \n",
    "                        index=False, # Write DataFrame index as a column\n",
    "                        chunksize=5000, # Specify the number of rows in each batch to be written at a time\n",
    "                        method='multi') # Pass multiple values in a single INSERT clause\n",
    "        print(f\"The table was imported successfully.\")\n",
    "    # Error handling\n",
    "    except (Exception, psycopg2.DatabaseError) as error:\n",
    "        print(error)\n",
    "        engine = None\n",
    "else:\n",
    "    print('No engine')"
   ]
  },
  {
   "cell_type": "code",
   "execution_count": 26,
   "metadata": {},
   "outputs": [
    {
     "name": "stdout",
     "output_type": "stream",
     "text": [
      "The table was imported successfully.\n"
     ]
    }
   ],
   "source": [
    "# Write records stored in a dataframe to SQL database\n",
    "if engine!=None:\n",
    "    try:\n",
    "        mental_illnesses.to_sql(name='lana_mental_illnesses', # Name of SQL table variable\n",
    "                        con=engine, # Engine or connection\n",
    "                        schema='cgn_analytics_24_1', # your class schema variable\n",
    "                        if_exists='replace', # Drop the table before inserting new values \n",
    "                        index=False, # Write DataFrame index as a column\n",
    "                        chunksize=5000, # Specify the number of rows in each batch to be written at a time\n",
    "                        method='multi') # Pass multiple values in a single INSERT clause\n",
    "        print(f\"The table was imported successfully.\")\n",
    "    # Error handling\n",
    "    except (Exception, psycopg2.DatabaseError) as error:\n",
    "        print(error)\n",
    "        engine = None\n",
    "else:\n",
    "    print('No engine')"
   ]
  }
 ],
 "metadata": {
  "kernelspec": {
   "display_name": "nf_base",
   "language": "python",
   "name": "python3"
  },
  "language_info": {
   "codemirror_mode": {
    "name": "ipython",
    "version": 3
   },
   "file_extension": ".py",
   "mimetype": "text/x-python",
   "name": "python",
   "nbconvert_exporter": "python",
   "pygments_lexer": "ipython3",
   "version": "3.9.18"
  }
 },
 "nbformat": 4,
 "nbformat_minor": 2
}
