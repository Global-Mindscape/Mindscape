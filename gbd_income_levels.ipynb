{
 "cells": [
  {
   "cell_type": "markdown",
   "metadata": {},
   "source": [
    "\n",
    "#### Global Burden of Disease (GBD)\n",
    "\n",
    "The GBD study is the largest and most comprehensive effort to quantify health loss across places and over time, so health systems can be improved and disparities eliminated.\n",
    "\n",
    "* 607 billion+ Highly standardized and comprehensive estimates of health outcome and health system measures.\n",
    "* 459 Health outcomes and risk factors, providing a powerful basis for insights on global health trends and challenges.\n",
    "* 204 Countries and territories, plus dozens of sub-national locations show trends at regional, national, and local levels.\n",
    "* 11,000+ Individuals from over 160 countries and territories collaborate in vetting GBD data sources and estimates.\n",
    "\n",
    "https://vizhub.healthdata.org/gbd-results/\n",
    "\n",
    "Filtered Data that was imported in this notebook:\n",
    "\n",
    "* __GBD Estimate__: Cause of death or injury \n",
    "* __Measure__: Prevelance\n",
    "* __Metric__: Number, percent and rate\n",
    "* __Cause__: Depressive disorders & anxiety disorders\n",
    "* __Location__: World Bank Income Groups\n",
    "* __Age__: < 20, 20-24, +25\n",
    "* __Sex__: Male, Female, Both\n",
    "* __Year__: 1990-2019\n",
    "\n"
   ]
  },
  {
   "cell_type": "code",
   "execution_count": 16,
   "metadata": {},
   "outputs": [],
   "source": [
    "# Import required modules\n",
    "import pandas as pd\n",
    "import matplotlib.pyplot as plt\n",
    "import seaborn as sns\n",
    "import sql_functions\n",
    "import numpy as np \n",
    "import pandas as pd \n",
    "import plotly\n",
    "import plotly.express as px\n",
    "from sql_functions import *\n",
    "from some_functions import *\n"
   ]
  },
  {
   "cell_type": "code",
   "execution_count": 17,
   "metadata": {},
   "outputs": [],
   "source": [
    "df =  pd.read_csv('data/income_levels.csv')"
   ]
  },
  {
   "cell_type": "code",
   "execution_count": 18,
   "metadata": {},
   "outputs": [],
   "source": [
    "# rename columns\n",
    "\n",
    "df = df.rename(columns={'location':'income_level'})\n",
    "df.columns = df.columns.str.lower().str.replace(\" \", \"_\")"
   ]
  },
  {
   "cell_type": "code",
   "execution_count": 19,
   "metadata": {},
   "outputs": [
    {
     "data": {
      "text/html": [
       "<div>\n",
       "<style scoped>\n",
       "    .dataframe tbody tr th:only-of-type {\n",
       "        vertical-align: middle;\n",
       "    }\n",
       "\n",
       "    .dataframe tbody tr th {\n",
       "        vertical-align: top;\n",
       "    }\n",
       "\n",
       "    .dataframe thead th {\n",
       "        text-align: right;\n",
       "    }\n",
       "</style>\n",
       "<table border=\"1\" class=\"dataframe\">\n",
       "  <thead>\n",
       "    <tr style=\"text-align: right;\">\n",
       "      <th></th>\n",
       "      <th>measure</th>\n",
       "      <th>income_level</th>\n",
       "      <th>sex</th>\n",
       "      <th>age</th>\n",
       "      <th>cause</th>\n",
       "      <th>metric</th>\n",
       "      <th>year</th>\n",
       "      <th>val</th>\n",
       "      <th>upper</th>\n",
       "      <th>lower</th>\n",
       "    </tr>\n",
       "  </thead>\n",
       "  <tbody>\n",
       "    <tr>\n",
       "      <th>0</th>\n",
       "      <td>Prevalence</td>\n",
       "      <td>World Bank Low Income</td>\n",
       "      <td>Male</td>\n",
       "      <td>20-24 years</td>\n",
       "      <td>Depressive disorders</td>\n",
       "      <td>Number</td>\n",
       "      <td>1990</td>\n",
       "      <td>5.588425e+05</td>\n",
       "      <td>7.335861e+05</td>\n",
       "      <td>4.136873e+05</td>\n",
       "    </tr>\n",
       "    <tr>\n",
       "      <th>1</th>\n",
       "      <td>Prevalence</td>\n",
       "      <td>World Bank Low Income</td>\n",
       "      <td>Female</td>\n",
       "      <td>20-24 years</td>\n",
       "      <td>Depressive disorders</td>\n",
       "      <td>Number</td>\n",
       "      <td>1990</td>\n",
       "      <td>9.068645e+05</td>\n",
       "      <td>1.172066e+06</td>\n",
       "      <td>6.716732e+05</td>\n",
       "    </tr>\n",
       "    <tr>\n",
       "      <th>2</th>\n",
       "      <td>Prevalence</td>\n",
       "      <td>World Bank Low Income</td>\n",
       "      <td>Both</td>\n",
       "      <td>20-24 years</td>\n",
       "      <td>Depressive disorders</td>\n",
       "      <td>Number</td>\n",
       "      <td>1990</td>\n",
       "      <td>1.465707e+06</td>\n",
       "      <td>1.900760e+06</td>\n",
       "      <td>1.094864e+06</td>\n",
       "    </tr>\n",
       "    <tr>\n",
       "      <th>3</th>\n",
       "      <td>Prevalence</td>\n",
       "      <td>World Bank Low Income</td>\n",
       "      <td>Male</td>\n",
       "      <td>20-24 years</td>\n",
       "      <td>Depressive disorders</td>\n",
       "      <td>Percent</td>\n",
       "      <td>1990</td>\n",
       "      <td>4.223844e-02</td>\n",
       "      <td>5.541397e-02</td>\n",
       "      <td>3.135307e-02</td>\n",
       "    </tr>\n",
       "    <tr>\n",
       "      <th>4</th>\n",
       "      <td>Prevalence</td>\n",
       "      <td>World Bank Low Income</td>\n",
       "      <td>Female</td>\n",
       "      <td>20-24 years</td>\n",
       "      <td>Depressive disorders</td>\n",
       "      <td>Percent</td>\n",
       "      <td>1990</td>\n",
       "      <td>6.136579e-02</td>\n",
       "      <td>7.937784e-02</td>\n",
       "      <td>4.546596e-02</td>\n",
       "    </tr>\n",
       "  </tbody>\n",
       "</table>\n",
       "</div>"
      ],
      "text/plain": [
       "      measure           income_level     sex          age  \\\n",
       "0  Prevalence  World Bank Low Income    Male  20-24 years   \n",
       "1  Prevalence  World Bank Low Income  Female  20-24 years   \n",
       "2  Prevalence  World Bank Low Income    Both  20-24 years   \n",
       "3  Prevalence  World Bank Low Income    Male  20-24 years   \n",
       "4  Prevalence  World Bank Low Income  Female  20-24 years   \n",
       "\n",
       "                  cause   metric  year           val         upper  \\\n",
       "0  Depressive disorders   Number  1990  5.588425e+05  7.335861e+05   \n",
       "1  Depressive disorders   Number  1990  9.068645e+05  1.172066e+06   \n",
       "2  Depressive disorders   Number  1990  1.465707e+06  1.900760e+06   \n",
       "3  Depressive disorders  Percent  1990  4.223844e-02  5.541397e-02   \n",
       "4  Depressive disorders  Percent  1990  6.136579e-02  7.937784e-02   \n",
       "\n",
       "          lower  \n",
       "0  4.136873e+05  \n",
       "1  6.716732e+05  \n",
       "2  1.094864e+06  \n",
       "3  3.135307e-02  \n",
       "4  4.546596e-02  "
      ]
     },
     "execution_count": 19,
     "metadata": {},
     "output_type": "execute_result"
    }
   ],
   "source": [
    "df.head()"
   ]
  },
  {
   "cell_type": "code",
   "execution_count": 20,
   "metadata": {},
   "outputs": [
    {
     "name": "stdout",
     "output_type": "stream",
     "text": [
      "<class 'pandas.core.frame.DataFrame'>\n",
      "RangeIndex: 12960 entries, 0 to 12959\n",
      "Data columns (total 10 columns):\n",
      " #   Column        Non-Null Count  Dtype  \n",
      "---  ------        --------------  -----  \n",
      " 0   measure       12960 non-null  object \n",
      " 1   income_level  12960 non-null  object \n",
      " 2   sex           12960 non-null  object \n",
      " 3   age           12960 non-null  object \n",
      " 4   cause         12960 non-null  object \n",
      " 5   metric        12960 non-null  object \n",
      " 6   year          12960 non-null  int64  \n",
      " 7   val           12960 non-null  float64\n",
      " 8   upper         12960 non-null  float64\n",
      " 9   lower         12960 non-null  float64\n",
      "dtypes: float64(3), int64(1), object(6)\n",
      "memory usage: 1012.6+ KB\n"
     ]
    }
   ],
   "source": [
    "df.info()"
   ]
  },
  {
   "cell_type": "code",
   "execution_count": 21,
   "metadata": {},
   "outputs": [
    {
     "data": {
      "text/plain": [
       "Index(['measure', 'income_level', 'sex', 'age', 'cause', 'metric', 'year',\n",
       "       'val', 'upper', 'lower'],\n",
       "      dtype='object')"
      ]
     },
     "execution_count": 21,
     "metadata": {},
     "output_type": "execute_result"
    }
   ],
   "source": [
    "df.columns"
   ]
  },
  {
   "cell_type": "code",
   "execution_count": 22,
   "metadata": {},
   "outputs": [],
   "source": [
    "df1 = df.sort_values(by=['income_level', 'year', 'age'])"
   ]
  },
  {
   "cell_type": "code",
   "execution_count": 24,
   "metadata": {},
   "outputs": [],
   "source": [
    "schema = 'cgn_analytics_24_1' \n",
    "engine = get_engine() \n",
    "\n",
    "def export_table(df, name):\n",
    "    # creating table_name with jlt_airport and the airport_code\n",
    "    global engine\n",
    "    table_name = f'mindscape_{name}'\n",
    "    if engine!=None:\n",
    "        try:\n",
    "            df.to_sql(name=table_name, # Name of SQL table\n",
    "                    con=engine, # Engine or connection\n",
    "                    if_exists='replace', # Drop the table before inserting new values \n",
    "                schema=schema, # Use schmea that was defined earlier\n",
    "                    index=False, # Write DataFrame index as a column\n",
    "                    chunksize=5000, # Specify the number of rows in each batch to be written at a time\n",
    "                    method='multi') # Pass multiple values in a single INSERT clause\n",
    "            print(f\"The {table_name} table was imported successfully.\")\n",
    "    # Error handling\n",
    "        except (Exception, psycopg2.DatabaseError) as error:\n",
    "            print(error)\n",
    "            engine = None"
   ]
  },
  {
   "cell_type": "code",
   "execution_count": 25,
   "metadata": {},
   "outputs": [
    {
     "name": "stdout",
     "output_type": "stream",
     "text": [
      "The mindscape_income_level table was imported successfully.\n"
     ]
    }
   ],
   "source": [
    "export_table(df, 'income_level')"
   ]
  }
 ],
 "metadata": {
  "kernelspec": {
   "display_name": "nf_sql",
   "language": "python",
   "name": "python3"
  },
  "language_info": {
   "codemirror_mode": {
    "name": "ipython",
    "version": 3
   },
   "file_extension": ".py",
   "mimetype": "text/x-python",
   "name": "python",
   "nbconvert_exporter": "python",
   "pygments_lexer": "ipython3",
   "version": "3.9.18"
  }
 },
 "nbformat": 4,
 "nbformat_minor": 2
}
