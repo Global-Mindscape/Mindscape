{
 "cells": [
  {
   "cell_type": "code",
   "execution_count": 31,
   "id": "b05cad69",
   "metadata": {
    "_cell_guid": "b1076dfc-b9ad-4769-8c92-a6c4dae69d19",
    "_uuid": "8f2839f25d086af736a60e9eeb907d3b93b6e0e5",
    "execution": {
     "iopub.execute_input": "2024-01-16T05:08:27.130666Z",
     "iopub.status.busy": "2024-01-16T05:08:27.130268Z",
     "iopub.status.idle": "2024-01-16T05:08:28.132930Z",
     "shell.execute_reply": "2024-01-16T05:08:28.131465Z"
    },
    "papermill": {
     "duration": 1.02421,
     "end_time": "2024-01-16T05:08:28.136018",
     "exception": false,
     "start_time": "2024-01-16T05:08:27.111808",
     "status": "completed"
    },
    "tags": []
   },
   "outputs": [],
   "source": [
    "import numpy as np \n",
    "import pandas as pd\n",
    "import matplotlib.pyplot as plt\n",
    "import seaborn as sns"
   ]
  },
  {
   "cell_type": "code",
   "execution_count": 34,
   "id": "18e69458",
   "metadata": {
    "execution": {
     "iopub.execute_input": "2024-01-16T05:08:28.171968Z",
     "iopub.status.busy": "2024-01-16T05:08:28.170693Z",
     "iopub.status.idle": "2024-01-16T05:08:28.264424Z",
     "shell.execute_reply": "2024-01-16T05:08:28.262775Z"
    },
    "papermill": {
     "duration": 0.115767,
     "end_time": "2024-01-16T05:08:28.268049",
     "exception": false,
     "start_time": "2024-01-16T05:08:28.152282",
     "status": "completed"
    },
    "tags": []
   },
   "outputs": [
    {
     "data": {
      "text/html": [
       "<div>\n",
       "<style scoped>\n",
       "    .dataframe tbody tr th:only-of-type {\n",
       "        vertical-align: middle;\n",
       "    }\n",
       "\n",
       "    .dataframe tbody tr th {\n",
       "        vertical-align: top;\n",
       "    }\n",
       "\n",
       "    .dataframe thead th {\n",
       "        text-align: right;\n",
       "    }\n",
       "</style>\n",
       "<table border=\"1\" class=\"dataframe\">\n",
       "  <thead>\n",
       "    <tr style=\"text-align: right;\">\n",
       "      <th></th>\n",
       "      <th>Timestamp</th>\n",
       "      <th>1. What is your age?</th>\n",
       "      <th>2. Gender</th>\n",
       "      <th>3. Relationship Status</th>\n",
       "      <th>4. Occupation Status</th>\n",
       "      <th>5. What type of organizations are you affiliated with?</th>\n",
       "      <th>6. Do you use social media?</th>\n",
       "      <th>7. What social media platforms do you commonly use?</th>\n",
       "      <th>8. What is the average time you spend on social media every day?</th>\n",
       "      <th>9. How often do you find yourself using Social media without a specific purpose?</th>\n",
       "      <th>...</th>\n",
       "      <th>11. Do you feel restless if you haven't used Social media in a while?</th>\n",
       "      <th>12. On a scale of 1 to 5, how easily distracted are you?</th>\n",
       "      <th>13. On a scale of 1 to 5, how much are you bothered by worries?</th>\n",
       "      <th>14. Do you find it difficult to concentrate on things?</th>\n",
       "      <th>15. On a scale of 1-5, how often do you compare yourself to other successful people through the use of social media?</th>\n",
       "      <th>16. Following the previous question, how do you feel about these comparisons, generally speaking?</th>\n",
       "      <th>17. How often do you look to seek validation from features of social media?</th>\n",
       "      <th>18. How often do you feel depressed or down?</th>\n",
       "      <th>19. On a scale of 1 to 5, how frequently does your interest in daily activities fluctuate?</th>\n",
       "      <th>20. On a scale of 1 to 5, how often do you face issues regarding sleep?</th>\n",
       "    </tr>\n",
       "  </thead>\n",
       "  <tbody>\n",
       "    <tr>\n",
       "      <th>0</th>\n",
       "      <td>4/18/2022 19:18:47</td>\n",
       "      <td>21.0</td>\n",
       "      <td>Male</td>\n",
       "      <td>In a relationship</td>\n",
       "      <td>University Student</td>\n",
       "      <td>University</td>\n",
       "      <td>Yes</td>\n",
       "      <td>Facebook, Twitter, Instagram, YouTube, Discord...</td>\n",
       "      <td>Between 2 and 3 hours</td>\n",
       "      <td>5</td>\n",
       "      <td>...</td>\n",
       "      <td>2</td>\n",
       "      <td>5</td>\n",
       "      <td>2</td>\n",
       "      <td>5</td>\n",
       "      <td>2</td>\n",
       "      <td>3</td>\n",
       "      <td>2</td>\n",
       "      <td>5</td>\n",
       "      <td>4</td>\n",
       "      <td>5</td>\n",
       "    </tr>\n",
       "    <tr>\n",
       "      <th>1</th>\n",
       "      <td>4/18/2022 19:19:28</td>\n",
       "      <td>21.0</td>\n",
       "      <td>Female</td>\n",
       "      <td>Single</td>\n",
       "      <td>University Student</td>\n",
       "      <td>University</td>\n",
       "      <td>Yes</td>\n",
       "      <td>Facebook, Twitter, Instagram, YouTube, Discord...</td>\n",
       "      <td>More than 5 hours</td>\n",
       "      <td>4</td>\n",
       "      <td>...</td>\n",
       "      <td>2</td>\n",
       "      <td>4</td>\n",
       "      <td>5</td>\n",
       "      <td>4</td>\n",
       "      <td>5</td>\n",
       "      <td>1</td>\n",
       "      <td>1</td>\n",
       "      <td>5</td>\n",
       "      <td>4</td>\n",
       "      <td>5</td>\n",
       "    </tr>\n",
       "    <tr>\n",
       "      <th>2</th>\n",
       "      <td>4/18/2022 19:25:59</td>\n",
       "      <td>21.0</td>\n",
       "      <td>Female</td>\n",
       "      <td>Single</td>\n",
       "      <td>University Student</td>\n",
       "      <td>University</td>\n",
       "      <td>Yes</td>\n",
       "      <td>Facebook, Instagram, YouTube, Pinterest</td>\n",
       "      <td>Between 3 and 4 hours</td>\n",
       "      <td>3</td>\n",
       "      <td>...</td>\n",
       "      <td>1</td>\n",
       "      <td>2</td>\n",
       "      <td>5</td>\n",
       "      <td>4</td>\n",
       "      <td>3</td>\n",
       "      <td>3</td>\n",
       "      <td>1</td>\n",
       "      <td>4</td>\n",
       "      <td>2</td>\n",
       "      <td>5</td>\n",
       "    </tr>\n",
       "    <tr>\n",
       "      <th>3</th>\n",
       "      <td>4/18/2022 19:29:43</td>\n",
       "      <td>21.0</td>\n",
       "      <td>Female</td>\n",
       "      <td>Single</td>\n",
       "      <td>University Student</td>\n",
       "      <td>University</td>\n",
       "      <td>Yes</td>\n",
       "      <td>Facebook, Instagram</td>\n",
       "      <td>More than 5 hours</td>\n",
       "      <td>4</td>\n",
       "      <td>...</td>\n",
       "      <td>1</td>\n",
       "      <td>3</td>\n",
       "      <td>5</td>\n",
       "      <td>3</td>\n",
       "      <td>5</td>\n",
       "      <td>1</td>\n",
       "      <td>2</td>\n",
       "      <td>4</td>\n",
       "      <td>3</td>\n",
       "      <td>2</td>\n",
       "    </tr>\n",
       "    <tr>\n",
       "      <th>4</th>\n",
       "      <td>4/18/2022 19:33:31</td>\n",
       "      <td>21.0</td>\n",
       "      <td>Female</td>\n",
       "      <td>Single</td>\n",
       "      <td>University Student</td>\n",
       "      <td>University</td>\n",
       "      <td>Yes</td>\n",
       "      <td>Facebook, Instagram, YouTube</td>\n",
       "      <td>Between 2 and 3 hours</td>\n",
       "      <td>3</td>\n",
       "      <td>...</td>\n",
       "      <td>4</td>\n",
       "      <td>4</td>\n",
       "      <td>5</td>\n",
       "      <td>5</td>\n",
       "      <td>3</td>\n",
       "      <td>3</td>\n",
       "      <td>3</td>\n",
       "      <td>4</td>\n",
       "      <td>4</td>\n",
       "      <td>1</td>\n",
       "    </tr>\n",
       "    <tr>\n",
       "      <th>...</th>\n",
       "      <td>...</td>\n",
       "      <td>...</td>\n",
       "      <td>...</td>\n",
       "      <td>...</td>\n",
       "      <td>...</td>\n",
       "      <td>...</td>\n",
       "      <td>...</td>\n",
       "      <td>...</td>\n",
       "      <td>...</td>\n",
       "      <td>...</td>\n",
       "      <td>...</td>\n",
       "      <td>...</td>\n",
       "      <td>...</td>\n",
       "      <td>...</td>\n",
       "      <td>...</td>\n",
       "      <td>...</td>\n",
       "      <td>...</td>\n",
       "      <td>...</td>\n",
       "      <td>...</td>\n",
       "      <td>...</td>\n",
       "      <td>...</td>\n",
       "    </tr>\n",
       "    <tr>\n",
       "      <th>476</th>\n",
       "      <td>5/21/2022 23:38:28</td>\n",
       "      <td>24.0</td>\n",
       "      <td>Male</td>\n",
       "      <td>Single</td>\n",
       "      <td>Salaried Worker</td>\n",
       "      <td>University, Private</td>\n",
       "      <td>Yes</td>\n",
       "      <td>Facebook, Instagram, YouTube</td>\n",
       "      <td>Between 2 and 3 hours</td>\n",
       "      <td>3</td>\n",
       "      <td>...</td>\n",
       "      <td>3</td>\n",
       "      <td>4</td>\n",
       "      <td>3</td>\n",
       "      <td>4</td>\n",
       "      <td>4</td>\n",
       "      <td>2</td>\n",
       "      <td>4</td>\n",
       "      <td>3</td>\n",
       "      <td>4</td>\n",
       "      <td>4</td>\n",
       "    </tr>\n",
       "    <tr>\n",
       "      <th>477</th>\n",
       "      <td>5/22/2022 0:01:05</td>\n",
       "      <td>26.0</td>\n",
       "      <td>Female</td>\n",
       "      <td>Married</td>\n",
       "      <td>Salaried Worker</td>\n",
       "      <td>University</td>\n",
       "      <td>Yes</td>\n",
       "      <td>Facebook, YouTube</td>\n",
       "      <td>Between 1 and 2 hours</td>\n",
       "      <td>2</td>\n",
       "      <td>...</td>\n",
       "      <td>2</td>\n",
       "      <td>3</td>\n",
       "      <td>4</td>\n",
       "      <td>4</td>\n",
       "      <td>4</td>\n",
       "      <td>2</td>\n",
       "      <td>4</td>\n",
       "      <td>4</td>\n",
       "      <td>4</td>\n",
       "      <td>1</td>\n",
       "    </tr>\n",
       "    <tr>\n",
       "      <th>478</th>\n",
       "      <td>5/22/2022 10:29:21</td>\n",
       "      <td>29.0</td>\n",
       "      <td>Female</td>\n",
       "      <td>Married</td>\n",
       "      <td>Salaried Worker</td>\n",
       "      <td>University</td>\n",
       "      <td>Yes</td>\n",
       "      <td>Facebook, YouTube</td>\n",
       "      <td>Between 2 and 3 hours</td>\n",
       "      <td>3</td>\n",
       "      <td>...</td>\n",
       "      <td>4</td>\n",
       "      <td>3</td>\n",
       "      <td>2</td>\n",
       "      <td>3</td>\n",
       "      <td>3</td>\n",
       "      <td>3</td>\n",
       "      <td>4</td>\n",
       "      <td>2</td>\n",
       "      <td>2</td>\n",
       "      <td>2</td>\n",
       "    </tr>\n",
       "    <tr>\n",
       "      <th>479</th>\n",
       "      <td>7/14/2022 19:33:47</td>\n",
       "      <td>21.0</td>\n",
       "      <td>Male</td>\n",
       "      <td>Single</td>\n",
       "      <td>University Student</td>\n",
       "      <td>University</td>\n",
       "      <td>Yes</td>\n",
       "      <td>Facebook, Twitter, Instagram, YouTube, Discord...</td>\n",
       "      <td>Between 2 and 3 hours</td>\n",
       "      <td>2</td>\n",
       "      <td>...</td>\n",
       "      <td>2</td>\n",
       "      <td>3</td>\n",
       "      <td>3</td>\n",
       "      <td>2</td>\n",
       "      <td>2</td>\n",
       "      <td>3</td>\n",
       "      <td>4</td>\n",
       "      <td>4</td>\n",
       "      <td>5</td>\n",
       "      <td>4</td>\n",
       "    </tr>\n",
       "    <tr>\n",
       "      <th>480</th>\n",
       "      <td>11/12/2022 13:16:50</td>\n",
       "      <td>53.0</td>\n",
       "      <td>Male</td>\n",
       "      <td>Married</td>\n",
       "      <td>Salaried Worker</td>\n",
       "      <td>Private</td>\n",
       "      <td>Yes</td>\n",
       "      <td>Facebook, YouTube</td>\n",
       "      <td>Less than an Hour</td>\n",
       "      <td>2</td>\n",
       "      <td>...</td>\n",
       "      <td>1</td>\n",
       "      <td>3</td>\n",
       "      <td>1</td>\n",
       "      <td>1</td>\n",
       "      <td>3</td>\n",
       "      <td>3</td>\n",
       "      <td>2</td>\n",
       "      <td>2</td>\n",
       "      <td>2</td>\n",
       "      <td>3</td>\n",
       "    </tr>\n",
       "  </tbody>\n",
       "</table>\n",
       "<p>481 rows × 21 columns</p>\n",
       "</div>"
      ],
      "text/plain": [
       "               Timestamp  1. What is your age? 2. Gender  \\\n",
       "0     4/18/2022 19:18:47                  21.0      Male   \n",
       "1     4/18/2022 19:19:28                  21.0    Female   \n",
       "2     4/18/2022 19:25:59                  21.0    Female   \n",
       "3     4/18/2022 19:29:43                  21.0    Female   \n",
       "4     4/18/2022 19:33:31                  21.0    Female   \n",
       "..                   ...                   ...       ...   \n",
       "476   5/21/2022 23:38:28                  24.0      Male   \n",
       "477    5/22/2022 0:01:05                  26.0    Female   \n",
       "478   5/22/2022 10:29:21                  29.0    Female   \n",
       "479   7/14/2022 19:33:47                  21.0      Male   \n",
       "480  11/12/2022 13:16:50                  53.0      Male   \n",
       "\n",
       "    3. Relationship Status 4. Occupation Status  \\\n",
       "0        In a relationship   University Student   \n",
       "1                   Single   University Student   \n",
       "2                   Single   University Student   \n",
       "3                   Single   University Student   \n",
       "4                   Single   University Student   \n",
       "..                     ...                  ...   \n",
       "476                 Single      Salaried Worker   \n",
       "477                Married      Salaried Worker   \n",
       "478                Married      Salaried Worker   \n",
       "479                 Single   University Student   \n",
       "480                Married      Salaried Worker   \n",
       "\n",
       "    5. What type of organizations are you affiliated with?  \\\n",
       "0                                           University       \n",
       "1                                           University       \n",
       "2                                           University       \n",
       "3                                           University       \n",
       "4                                           University       \n",
       "..                                                 ...       \n",
       "476                                University, Private       \n",
       "477                                         University       \n",
       "478                                         University       \n",
       "479                                         University       \n",
       "480                                            Private       \n",
       "\n",
       "    6. Do you use social media?  \\\n",
       "0                           Yes   \n",
       "1                           Yes   \n",
       "2                           Yes   \n",
       "3                           Yes   \n",
       "4                           Yes   \n",
       "..                          ...   \n",
       "476                         Yes   \n",
       "477                         Yes   \n",
       "478                         Yes   \n",
       "479                         Yes   \n",
       "480                         Yes   \n",
       "\n",
       "    7. What social media platforms do you commonly use?  \\\n",
       "0    Facebook, Twitter, Instagram, YouTube, Discord...    \n",
       "1    Facebook, Twitter, Instagram, YouTube, Discord...    \n",
       "2              Facebook, Instagram, YouTube, Pinterest    \n",
       "3                                  Facebook, Instagram    \n",
       "4                         Facebook, Instagram, YouTube    \n",
       "..                                                 ...    \n",
       "476                       Facebook, Instagram, YouTube    \n",
       "477                                  Facebook, YouTube    \n",
       "478                                  Facebook, YouTube    \n",
       "479  Facebook, Twitter, Instagram, YouTube, Discord...    \n",
       "480                                  Facebook, YouTube    \n",
       "\n",
       "    8. What is the average time you spend on social media every day?  \\\n",
       "0                                Between 2 and 3 hours                 \n",
       "1                                    More than 5 hours                 \n",
       "2                                Between 3 and 4 hours                 \n",
       "3                                    More than 5 hours                 \n",
       "4                                Between 2 and 3 hours                 \n",
       "..                                                 ...                 \n",
       "476                              Between 2 and 3 hours                 \n",
       "477                              Between 1 and 2 hours                 \n",
       "478                              Between 2 and 3 hours                 \n",
       "479                              Between 2 and 3 hours                 \n",
       "480                                  Less than an Hour                 \n",
       "\n",
       "     9. How often do you find yourself using Social media without a specific purpose?  \\\n",
       "0                                                    5                                  \n",
       "1                                                    4                                  \n",
       "2                                                    3                                  \n",
       "3                                                    4                                  \n",
       "4                                                    3                                  \n",
       "..                                                 ...                                  \n",
       "476                                                  3                                  \n",
       "477                                                  2                                  \n",
       "478                                                  3                                  \n",
       "479                                                  2                                  \n",
       "480                                                  2                                  \n",
       "\n",
       "     ...  \\\n",
       "0    ...   \n",
       "1    ...   \n",
       "2    ...   \n",
       "3    ...   \n",
       "4    ...   \n",
       "..   ...   \n",
       "476  ...   \n",
       "477  ...   \n",
       "478  ...   \n",
       "479  ...   \n",
       "480  ...   \n",
       "\n",
       "     11. Do you feel restless if you haven't used Social media in a while?  \\\n",
       "0                                                    2                       \n",
       "1                                                    2                       \n",
       "2                                                    1                       \n",
       "3                                                    1                       \n",
       "4                                                    4                       \n",
       "..                                                 ...                       \n",
       "476                                                  3                       \n",
       "477                                                  2                       \n",
       "478                                                  4                       \n",
       "479                                                  2                       \n",
       "480                                                  1                       \n",
       "\n",
       "     12. On a scale of 1 to 5, how easily distracted are you?  \\\n",
       "0                                                    5          \n",
       "1                                                    4          \n",
       "2                                                    2          \n",
       "3                                                    3          \n",
       "4                                                    4          \n",
       "..                                                 ...          \n",
       "476                                                  4          \n",
       "477                                                  3          \n",
       "478                                                  3          \n",
       "479                                                  3          \n",
       "480                                                  3          \n",
       "\n",
       "     13. On a scale of 1 to 5, how much are you bothered by worries?  \\\n",
       "0                                                    2                 \n",
       "1                                                    5                 \n",
       "2                                                    5                 \n",
       "3                                                    5                 \n",
       "4                                                    5                 \n",
       "..                                                 ...                 \n",
       "476                                                  3                 \n",
       "477                                                  4                 \n",
       "478                                                  2                 \n",
       "479                                                  3                 \n",
       "480                                                  1                 \n",
       "\n",
       "     14. Do you find it difficult to concentrate on things?  \\\n",
       "0                                                    5        \n",
       "1                                                    4        \n",
       "2                                                    4        \n",
       "3                                                    3        \n",
       "4                                                    5        \n",
       "..                                                 ...        \n",
       "476                                                  4        \n",
       "477                                                  4        \n",
       "478                                                  3        \n",
       "479                                                  2        \n",
       "480                                                  1        \n",
       "\n",
       "     15. On a scale of 1-5, how often do you compare yourself to other successful people through the use of social media?  \\\n",
       "0                                                    2                                                                      \n",
       "1                                                    5                                                                      \n",
       "2                                                    3                                                                      \n",
       "3                                                    5                                                                      \n",
       "4                                                    3                                                                      \n",
       "..                                                 ...                                                                      \n",
       "476                                                  4                                                                      \n",
       "477                                                  4                                                                      \n",
       "478                                                  3                                                                      \n",
       "479                                                  2                                                                      \n",
       "480                                                  3                                                                      \n",
       "\n",
       "     16. Following the previous question, how do you feel about these comparisons, generally speaking?  \\\n",
       "0                                                    3                                                   \n",
       "1                                                    1                                                   \n",
       "2                                                    3                                                   \n",
       "3                                                    1                                                   \n",
       "4                                                    3                                                   \n",
       "..                                                 ...                                                   \n",
       "476                                                  2                                                   \n",
       "477                                                  2                                                   \n",
       "478                                                  3                                                   \n",
       "479                                                  3                                                   \n",
       "480                                                  3                                                   \n",
       "\n",
       "     17. How often do you look to seek validation from features of social media?  \\\n",
       "0                                                    2                             \n",
       "1                                                    1                             \n",
       "2                                                    1                             \n",
       "3                                                    2                             \n",
       "4                                                    3                             \n",
       "..                                                 ...                             \n",
       "476                                                  4                             \n",
       "477                                                  4                             \n",
       "478                                                  4                             \n",
       "479                                                  4                             \n",
       "480                                                  2                             \n",
       "\n",
       "     18. How often do you feel depressed or down?  \\\n",
       "0                                               5   \n",
       "1                                               5   \n",
       "2                                               4   \n",
       "3                                               4   \n",
       "4                                               4   \n",
       "..                                            ...   \n",
       "476                                             3   \n",
       "477                                             4   \n",
       "478                                             2   \n",
       "479                                             4   \n",
       "480                                             2   \n",
       "\n",
       "     19. On a scale of 1 to 5, how frequently does your interest in daily activities fluctuate?  \\\n",
       "0                                                    4                                            \n",
       "1                                                    4                                            \n",
       "2                                                    2                                            \n",
       "3                                                    3                                            \n",
       "4                                                    4                                            \n",
       "..                                                 ...                                            \n",
       "476                                                  4                                            \n",
       "477                                                  4                                            \n",
       "478                                                  2                                            \n",
       "479                                                  5                                            \n",
       "480                                                  2                                            \n",
       "\n",
       "     20. On a scale of 1 to 5, how often do you face issues regarding sleep?  \n",
       "0                                                    5                        \n",
       "1                                                    5                        \n",
       "2                                                    5                        \n",
       "3                                                    2                        \n",
       "4                                                    1                        \n",
       "..                                                 ...                        \n",
       "476                                                  4                        \n",
       "477                                                  1                        \n",
       "478                                                  2                        \n",
       "479                                                  4                        \n",
       "480                                                  3                        \n",
       "\n",
       "[481 rows x 21 columns]"
      ]
     },
     "execution_count": 34,
     "metadata": {},
     "output_type": "execute_result"
    }
   ],
   "source": [
    "smmh = pd.read_csv('../MindScape/data/smmh.csv') \n",
    "smmh "
   ]
  },
  {
   "cell_type": "code",
   "execution_count": 3,
   "id": "aa58ddba",
   "metadata": {
    "execution": {
     "iopub.execute_input": "2024-01-16T05:08:28.317589Z",
     "iopub.status.busy": "2024-01-16T05:08:28.316415Z",
     "iopub.status.idle": "2024-01-16T05:08:28.323900Z",
     "shell.execute_reply": "2024-01-16T05:08:28.323017Z"
    },
    "papermill": {
     "duration": 0.033209,
     "end_time": "2024-01-16T05:08:28.326624",
     "exception": false,
     "start_time": "2024-01-16T05:08:28.293415",
     "status": "completed"
    },
    "tags": []
   },
   "outputs": [
    {
     "data": {
      "text/plain": [
       "(481, 21)"
      ]
     },
     "execution_count": 3,
     "metadata": {},
     "output_type": "execute_result"
    }
   ],
   "source": [
    "smmh.shape"
   ]
  },
  {
   "cell_type": "code",
   "execution_count": 4,
   "id": "b4e85219",
   "metadata": {
    "execution": {
     "iopub.execute_input": "2024-01-16T05:08:28.365545Z",
     "iopub.status.busy": "2024-01-16T05:08:28.364221Z",
     "iopub.status.idle": "2024-01-16T05:08:28.371397Z",
     "shell.execute_reply": "2024-01-16T05:08:28.370532Z"
    },
    "papermill": {
     "duration": 0.03007,
     "end_time": "2024-01-16T05:08:28.374490",
     "exception": false,
     "start_time": "2024-01-16T05:08:28.344420",
     "status": "completed"
    },
    "tags": []
   },
   "outputs": [
    {
     "data": {
      "text/plain": [
       "Index(['Timestamp', '1. What is your age?', '2. Gender',\n",
       "       '3. Relationship Status', '4. Occupation Status',\n",
       "       '5. What type of organizations are you affiliated with?',\n",
       "       '6. Do you use social media?',\n",
       "       '7. What social media platforms do you commonly use?',\n",
       "       '8. What is the average time you spend on social media every day?',\n",
       "       '9. How often do you find yourself using Social media without a specific purpose?',\n",
       "       '10. How often do you get distracted by Social media when you are busy doing something?',\n",
       "       '11. Do you feel restless if you haven't used Social media in a while?',\n",
       "       '12. On a scale of 1 to 5, how easily distracted are you?',\n",
       "       '13. On a scale of 1 to 5, how much are you bothered by worries?',\n",
       "       '14. Do you find it difficult to concentrate on things?',\n",
       "       '15. On a scale of 1-5, how often do you compare yourself to other successful people through the use of social media?',\n",
       "       '16. Following the previous question, how do you feel about these comparisons, generally speaking?',\n",
       "       '17. How often do you look to seek validation from features of social media?',\n",
       "       '18. How often do you feel depressed or down?',\n",
       "       '19. On a scale of 1 to 5, how frequently does your interest in daily activities fluctuate?',\n",
       "       '20. On a scale of 1 to 5, how often do you face issues regarding sleep?'],\n",
       "      dtype='object')"
      ]
     },
     "execution_count": 4,
     "metadata": {},
     "output_type": "execute_result"
    }
   ],
   "source": [
    "smmh.columns"
   ]
  },
  {
   "cell_type": "markdown",
   "id": "e14ef9fd",
   "metadata": {
    "papermill": {
     "duration": 0.021838,
     "end_time": "2024-01-16T05:08:28.418532",
     "exception": false,
     "start_time": "2024-01-16T05:08:28.396694",
     "status": "completed"
    },
    "tags": []
   },
   "source": [
    "# Renaming the Columns"
   ]
  },
  {
   "cell_type": "code",
   "execution_count": 5,
   "id": "74895454",
   "metadata": {
    "execution": {
     "iopub.execute_input": "2024-01-16T05:08:28.460800Z",
     "iopub.status.busy": "2024-01-16T05:08:28.460298Z",
     "iopub.status.idle": "2024-01-16T05:08:28.471985Z",
     "shell.execute_reply": "2024-01-16T05:08:28.470938Z"
    },
    "papermill": {
     "duration": 0.037133,
     "end_time": "2024-01-16T05:08:28.474386",
     "exception": false,
     "start_time": "2024-01-16T05:08:28.437253",
     "status": "completed"
    },
    "tags": []
   },
   "outputs": [],
   "source": [
    "new_column_names = {\n",
    "    'Timestamp': 'timestamp',\n",
    "    '1. What is your age?': 'age',\n",
    "    '2. Gender': 'gender',\n",
    "    '3. Relationship Status': 'relationship_status',\n",
    "    '4. Occupation Status': 'occupation_status',\n",
    "    '5. What type of organizations are you affiliated with?': 'affiliated_organizations',\n",
    "    '6. Do you use social media?': 'use_social_media',\n",
    "    '7. What social media platforms do you commonly use?': 'social_media_platforms',\n",
    "    '8. What is the average time you spend on social media every day?': 'daily_social_media_time',\n",
    "    '9. How often do you find yourself using Social media without a specific purpose?': 'frequency_social_media_no_purpose',\n",
    "    '10. How often do you get distracted by Social media when you are busy doing something?': 'frequency_social_media_distracted',\n",
    "    \"11. Do you feel restless if you haven't used Social media in a while?\": 'restless_without_social_media',\n",
    "    '12. On a scale of 1 to 5, how easily distracted are you?': 'distractibility_scale',\n",
    "    '13. On a scale of 1 to 5, how much are you bothered by worries?': 'worry_level_scale',\n",
    "    '14. Do you find it difficult to concentrate on things?': 'difficulty_concentrating',\n",
    "    '15. On a scale of 1-5, how often do you compare yourself to other successful people through the use of social media?': 'compare_to_successful_people_scale',\n",
    "    '16. Following the previous question, how do you feel about these comparisons, generally speaking?': 'feelings_about_comparisons',\n",
    "    '17. How often do you look to seek validation from features of social media?': 'frequency_seeking_validation',\n",
    "    '18. How often do you feel depressed or down?': 'frequency_feeling_depressed',\n",
    "    '19. On a scale of 1 to 5, how frequently does your interest in daily activities fluctuate?': 'interest_fluctuation_scale', \n",
    "    '20. On a scale of 1 to 5, how often do you face issues regarding sleep?': 'sleep_issues_scale',\n",
    "}\n",
    "\n",
    "smmh = smmh.rename(columns=new_column_names)\n"
   ]
  },
  {
   "cell_type": "code",
   "execution_count": 6,
   "id": "352c8468",
   "metadata": {
    "execution": {
     "iopub.execute_input": "2024-01-16T05:08:28.590790Z",
     "iopub.status.busy": "2024-01-16T05:08:28.590343Z",
     "iopub.status.idle": "2024-01-16T05:08:28.619937Z",
     "shell.execute_reply": "2024-01-16T05:08:28.618086Z"
    },
    "papermill": {
     "duration": 0.053549,
     "end_time": "2024-01-16T05:08:28.623229",
     "exception": false,
     "start_time": "2024-01-16T05:08:28.569680",
     "status": "completed"
    },
    "tags": []
   },
   "outputs": [
    {
     "name": "stdout",
     "output_type": "stream",
     "text": [
      "<class 'pandas.core.frame.DataFrame'>\n",
      "RangeIndex: 481 entries, 0 to 480\n",
      "Data columns (total 21 columns):\n",
      " #   Column                              Non-Null Count  Dtype  \n",
      "---  ------                              --------------  -----  \n",
      " 0   timestamp                           481 non-null    object \n",
      " 1   age                                 481 non-null    float64\n",
      " 2   gender                              481 non-null    object \n",
      " 3   relationship_status                 481 non-null    object \n",
      " 4   occupation_status                   481 non-null    object \n",
      " 5   affiliated_organizations            451 non-null    object \n",
      " 6   use_social_media                    481 non-null    object \n",
      " 7   social_media_platforms              481 non-null    object \n",
      " 8   daily_social_media_time             481 non-null    object \n",
      " 9   frequency_social_media_no_purpose   481 non-null    int64  \n",
      " 10  frequency_social_media_distracted   481 non-null    int64  \n",
      " 11  restless_without_social_media       481 non-null    int64  \n",
      " 12  distractibility_scale               481 non-null    int64  \n",
      " 13  worry_level_scale                   481 non-null    int64  \n",
      " 14  difficulty_concentrating            481 non-null    int64  \n",
      " 15  compare_to_successful_people_scale  481 non-null    int64  \n",
      " 16  feelings_about_comparisons          481 non-null    int64  \n",
      " 17  frequency_seeking_validation        481 non-null    int64  \n",
      " 18  frequency_feeling_depressed         481 non-null    int64  \n",
      " 19  interest_fluctuation_scale          481 non-null    int64  \n",
      " 20  sleep_issues_scale                  481 non-null    int64  \n",
      "dtypes: float64(1), int64(12), object(8)\n",
      "memory usage: 79.0+ KB\n"
     ]
    }
   ],
   "source": [
    "smmh_copy = smmh.copy()\n",
    "smmh.info() "
   ]
  },
  {
   "cell_type": "markdown",
   "id": "48a91843",
   "metadata": {
    "papermill": {
     "duration": 0.017893,
     "end_time": "2024-01-16T05:08:28.711978",
     "exception": false,
     "start_time": "2024-01-16T05:08:28.694085",
     "status": "completed"
    },
    "tags": []
   },
   "source": [
    "Imputing the Null Values"
   ]
  },
  {
   "cell_type": "code",
   "execution_count": 7,
   "id": "a65160a3",
   "metadata": {},
   "outputs": [
    {
     "data": {
      "text/plain": [
       "timestamp                              0\n",
       "age                                    0\n",
       "gender                                 0\n",
       "relationship_status                    0\n",
       "occupation_status                      0\n",
       "affiliated_organizations              30\n",
       "use_social_media                       0\n",
       "social_media_platforms                 0\n",
       "daily_social_media_time                0\n",
       "frequency_social_media_no_purpose      0\n",
       "frequency_social_media_distracted      0\n",
       "restless_without_social_media          0\n",
       "distractibility_scale                  0\n",
       "worry_level_scale                      0\n",
       "difficulty_concentrating               0\n",
       "compare_to_successful_people_scale     0\n",
       "feelings_about_comparisons             0\n",
       "frequency_seeking_validation           0\n",
       "frequency_feeling_depressed            0\n",
       "interest_fluctuation_scale             0\n",
       "sleep_issues_scale                     0\n",
       "dtype: int64"
      ]
     },
     "execution_count": 7,
     "metadata": {},
     "output_type": "execute_result"
    }
   ],
   "source": [
    "smmh.isnull().sum()"
   ]
  },
  {
   "cell_type": "code",
   "execution_count": 8,
   "id": "44d19026",
   "metadata": {
    "execution": {
     "iopub.execute_input": "2024-01-16T05:08:28.751820Z",
     "iopub.status.busy": "2024-01-16T05:08:28.751290Z",
     "iopub.status.idle": "2024-01-16T05:08:28.759132Z",
     "shell.execute_reply": "2024-01-16T05:08:28.757681Z"
    },
    "papermill": {
     "duration": 0.030515,
     "end_time": "2024-01-16T05:08:28.761709",
     "exception": false,
     "start_time": "2024-01-16T05:08:28.731194",
     "status": "completed"
    },
    "tags": []
   },
   "outputs": [],
   "source": [
    "mode_value = smmh['affiliated_organizations'].mode()[0]\n",
    "smmh['affiliated_organizations'].fillna(mode_value, inplace=True)"
   ]
  },
  {
   "cell_type": "code",
   "execution_count": 9,
   "id": "a84da5b3",
   "metadata": {},
   "outputs": [
    {
     "data": {
      "text/plain": [
       "timestamp                             0\n",
       "age                                   0\n",
       "gender                                0\n",
       "relationship_status                   0\n",
       "occupation_status                     0\n",
       "affiliated_organizations              0\n",
       "use_social_media                      0\n",
       "social_media_platforms                0\n",
       "daily_social_media_time               0\n",
       "frequency_social_media_no_purpose     0\n",
       "frequency_social_media_distracted     0\n",
       "restless_without_social_media         0\n",
       "distractibility_scale                 0\n",
       "worry_level_scale                     0\n",
       "difficulty_concentrating              0\n",
       "compare_to_successful_people_scale    0\n",
       "feelings_about_comparisons            0\n",
       "frequency_seeking_validation          0\n",
       "frequency_feeling_depressed           0\n",
       "interest_fluctuation_scale            0\n",
       "sleep_issues_scale                    0\n",
       "dtype: int64"
      ]
     },
     "execution_count": 9,
     "metadata": {},
     "output_type": "execute_result"
    }
   ],
   "source": [
    "smmh.isnull().sum()"
   ]
  },
  {
   "cell_type": "markdown",
   "id": "c6ac7e5f",
   "metadata": {
    "papermill": {
     "duration": 0.018893,
     "end_time": "2024-01-16T05:08:28.920312",
     "exception": false,
     "start_time": "2024-01-16T05:08:28.901419",
     "status": "completed"
    },
    "tags": []
   },
   "source": [
    "So now our data has no null values. we are going to proceed forward."
   ]
  },
  {
   "cell_type": "code",
   "execution_count": 10,
   "id": "289dcb52",
   "metadata": {
    "execution": {
     "iopub.execute_input": "2024-01-16T05:08:28.961013Z",
     "iopub.status.busy": "2024-01-16T05:08:28.960535Z",
     "iopub.status.idle": "2024-01-16T05:08:28.979914Z",
     "shell.execute_reply": "2024-01-16T05:08:28.978488Z"
    },
    "papermill": {
     "duration": 0.042349,
     "end_time": "2024-01-16T05:08:28.982371",
     "exception": false,
     "start_time": "2024-01-16T05:08:28.940022",
     "status": "completed"
    },
    "tags": []
   },
   "outputs": [
    {
     "data": {
      "text/plain": [
       "timestamp                               0\n",
       "age                                   0.0\n",
       "gender                                  0\n",
       "relationship_status                     0\n",
       "occupation_status                       0\n",
       "affiliated_organizations                0\n",
       "use_social_media                        0\n",
       "social_media_platforms                  0\n",
       "daily_social_media_time                 0\n",
       "frequency_social_media_no_purpose       0\n",
       "frequency_social_media_distracted       0\n",
       "restless_without_social_media           0\n",
       "distractibility_scale                   0\n",
       "worry_level_scale                       0\n",
       "difficulty_concentrating                0\n",
       "compare_to_successful_people_scale      0\n",
       "feelings_about_comparisons              0\n",
       "frequency_seeking_validation            0\n",
       "frequency_feeling_depressed             0\n",
       "interest_fluctuation_scale              0\n",
       "sleep_issues_scale                      0\n",
       "dtype: object"
      ]
     },
     "execution_count": 10,
     "metadata": {},
     "output_type": "execute_result"
    }
   ],
   "source": [
    "duplicate_rows = smmh[smmh.duplicated()]\n",
    "duplicate_rows.sum() "
   ]
  },
  {
   "cell_type": "code",
   "execution_count": 11,
   "id": "246dbac8",
   "metadata": {},
   "outputs": [],
   "source": [
    "smmh.to_csv('smmh_sorted.csv', sep=',', index=False, encoding='utf-8')"
   ]
  },
  {
   "cell_type": "code",
   "execution_count": 12,
   "id": "928522de",
   "metadata": {},
   "outputs": [],
   "source": [
    "smmh.reset_index(inplace = True) "
   ]
  },
  {
   "cell_type": "markdown",
   "id": "83d00a0a",
   "metadata": {
    "papermill": {
     "duration": 0.018535,
     "end_time": "2024-01-16T05:08:29.072301",
     "exception": false,
     "start_time": "2024-01-16T05:08:29.053766",
     "status": "completed"
    },
    "tags": []
   },
   "source": [
    "# Descriptive Analysis\n",
    "\n",
    "1. What is the average age of the survey respondents?\n",
    "2. How is the gender distribution among the respondents?\n",
    "3. Which social media platforms are the most commonly used among the survey participants?\n",
    "4. What is the distribution of daily social media usage times among the respondents?\n",
    "5. How often do respondents find themselves using social media without a specific purpose, and how does this vary by age and gender?"
   ]
  },
  {
   "cell_type": "markdown",
   "id": "e5188558",
   "metadata": {
    "papermill": {
     "duration": 0.019338,
     "end_time": "2024-01-16T05:08:29.112778",
     "exception": false,
     "start_time": "2024-01-16T05:08:29.093440",
     "status": "completed"
    },
    "tags": []
   },
   "source": [
    "What is the average age of the survey respondents, and what is the age distribution in the dataset?"
   ]
  },
  {
   "cell_type": "code",
   "execution_count": 13,
   "id": "782d6bd1",
   "metadata": {
    "execution": {
     "iopub.execute_input": "2024-01-16T05:08:29.153745Z",
     "iopub.status.busy": "2024-01-16T05:08:29.152436Z",
     "iopub.status.idle": "2024-01-16T05:08:29.534014Z",
     "shell.execute_reply": "2024-01-16T05:08:29.532577Z"
    },
    "papermill": {
     "duration": 0.405325,
     "end_time": "2024-01-16T05:08:29.537211",
     "exception": false,
     "start_time": "2024-01-16T05:08:29.131886",
     "status": "completed"
    },
    "tags": []
   },
   "outputs": [],
   "source": [
    "average_age = smmh['age'].mean()"
   ]
  },
  {
   "cell_type": "code",
   "execution_count": 14,
   "id": "0530b5dd",
   "metadata": {},
   "outputs": [
    {
     "data": {
      "text/plain": [
       "count    481.00000\n",
       "mean      26.13659\n",
       "std        9.91511\n",
       "min       13.00000\n",
       "25%       21.00000\n",
       "50%       22.00000\n",
       "75%       26.00000\n",
       "max       91.00000\n",
       "Name: age, dtype: float64"
      ]
     },
     "execution_count": 14,
     "metadata": {},
     "output_type": "execute_result"
    }
   ],
   "source": [
    "smmh['age'].describe()"
   ]
  },
  {
   "cell_type": "markdown",
   "id": "27ac7ad6",
   "metadata": {},
   "source": [
    "How is the gender distribution among the respondents?"
   ]
  },
  {
   "cell_type": "code",
   "execution_count": 15,
   "id": "e1cc0569",
   "metadata": {},
   "outputs": [
    {
     "data": {
      "text/plain": [
       "array(['Male', 'Female', 'Nonbinary ', 'Non-binary', 'NB', 'unsure ',\n",
       "       'Trans', 'Non binary ', 'There are others???'], dtype=object)"
      ]
     },
     "execution_count": 15,
     "metadata": {},
     "output_type": "execute_result"
    }
   ],
   "source": [
    "smmh['gender'].unique() "
   ]
  },
  {
   "cell_type": "code",
   "execution_count": 16,
   "id": "d3bface4",
   "metadata": {},
   "outputs": [],
   "source": [
    "#Combining the unique entries that all fall under the \"others\" category\n",
    "smmh.replace('Non-binary','Others', inplace=True)\n",
    "smmh.replace('Nonbinary ','Others', inplace=True)\n",
    "smmh.replace('NB','Others', inplace=True)\n",
    "smmh.replace('unsure ','Others', inplace=True)\n",
    "smmh.replace('Non binary ','Others', inplace=True)\n",
    "smmh.replace('Trans','Others', inplace=True)\n",
    "smmh.replace('There are others???','Others', inplace=True) "
   ]
  },
  {
   "cell_type": "code",
   "execution_count": 17,
   "id": "b064b6b3",
   "metadata": {},
   "outputs": [
    {
     "data": {
      "text/plain": [
       "array(['Male', 'Female', 'Others'], dtype=object)"
      ]
     },
     "execution_count": 17,
     "metadata": {},
     "output_type": "execute_result"
    }
   ],
   "source": [
    "smmh['gender'].unique()"
   ]
  },
  {
   "cell_type": "code",
   "execution_count": 18,
   "id": "f5587fe6",
   "metadata": {},
   "outputs": [
    {
     "name": "stdout",
     "output_type": "stream",
     "text": [
      "gender\n",
      "Female    263\n",
      "Male      211\n",
      "Others      7\n",
      "Name: count, dtype: int64\n"
     ]
    }
   ],
   "source": [
    "gender_counts = smmh['gender'].value_counts()\n",
    "print(gender_counts)"
   ]
  },
  {
   "cell_type": "code",
   "execution_count": 19,
   "id": "d43c70bf",
   "metadata": {
    "execution": {
     "iopub.execute_input": "2024-01-16T05:08:30.476004Z",
     "iopub.status.busy": "2024-01-16T05:08:30.475135Z",
     "iopub.status.idle": "2024-01-16T05:08:30.804530Z",
     "shell.execute_reply": "2024-01-16T05:08:30.803269Z"
    },
    "papermill": {
     "duration": 0.355588,
     "end_time": "2024-01-16T05:08:30.807164",
     "exception": false,
     "start_time": "2024-01-16T05:08:30.451576",
     "status": "completed"
    },
    "tags": []
   },
   "outputs": [
    {
     "name": "stdout",
     "output_type": "stream",
     "text": [
      "occupation_status\n",
      "University Student    292\n",
      "Salaried Worker       132\n",
      "School Student         49\n",
      "Retired                 8\n",
      "Name: count, dtype: int64\n"
     ]
    }
   ],
   "source": [
    "occupation_statuses = smmh['occupation_status'].value_counts()\n",
    "print(occupation_statuses)\n"
   ]
  },
  {
   "cell_type": "markdown",
   "id": "ca1a9523",
   "metadata": {
    "papermill": {
     "duration": 0.022087,
     "end_time": "2024-01-16T05:08:30.851316",
     "exception": false,
     "start_time": "2024-01-16T05:08:30.829229",
     "status": "completed"
    },
    "tags": []
   },
   "source": [
    "### Which social media platforms are the most commonly used among the survey participants?"
   ]
  },
  {
   "cell_type": "code",
   "execution_count": 20,
   "id": "248fdd68",
   "metadata": {
    "execution": {
     "iopub.execute_input": "2024-01-16T05:08:30.897971Z",
     "iopub.status.busy": "2024-01-16T05:08:30.897510Z",
     "iopub.status.idle": "2024-01-16T05:08:31.256446Z",
     "shell.execute_reply": "2024-01-16T05:08:31.255510Z"
    },
    "papermill": {
     "duration": 0.385659,
     "end_time": "2024-01-16T05:08:31.259344",
     "exception": false,
     "start_time": "2024-01-16T05:08:30.873685",
     "status": "completed"
    },
    "tags": []
   },
   "outputs": [
    {
     "data": {
      "image/png": "[encoded data removed]",
      "text/plain": [
       "<Figure size 1000x600 with 1 Axes>"
      ]
     },
     "metadata": {},
     "output_type": "display_data"
    }
   ],
   "source": [
    "social_media_platforms = smmh['social_media_platforms'].str.split(', ', expand=True).stack().value_counts()\n",
    "\n",
    "plt.figure(figsize=(10, 6))\n",
    "social_media_platforms.plot(kind='bar')\n",
    "plt.title('Commonly Used Social Media Platforms by Respondents')\n",
    "plt.xlabel('Social Media Platform')\n",
    "plt.ylabel('Number of Respondents')\n",
    "plt.xticks(rotation=45)\n",
    "plt.show()\n"
   ]
  },
  {
   "cell_type": "markdown",
   "id": "bc70a69a",
   "metadata": {
    "papermill": {
     "duration": 0.021914,
     "end_time": "2024-01-16T05:08:31.348433",
     "exception": false,
     "start_time": "2024-01-16T05:08:31.326519",
     "status": "completed"
    },
    "tags": []
   },
   "source": [
    "### What is the distribution of daily social media usage times among the respondents?"
   ]
  },
  {
   "cell_type": "code",
   "execution_count": 30,
   "id": "d7905525",
   "metadata": {
    "execution": {
     "iopub.execute_input": "2024-01-16T05:08:31.395422Z",
     "iopub.status.busy": "2024-01-16T05:08:31.395033Z",
     "iopub.status.idle": "2024-01-16T05:08:31.720523Z",
     "shell.execute_reply": "2024-01-16T05:08:31.719582Z"
    },
    "papermill": {
     "duration": 0.352106,
     "end_time": "2024-01-16T05:08:31.722843",
     "exception": false,
     "start_time": "2024-01-16T05:08:31.370737",
     "status": "completed"
    },
    "tags": []
   },
   "outputs": [
    {
     "name": "stdout",
     "output_type": "stream",
     "text": [
      "daily_social_media_time\n",
      "5.0    116\n",
      "2.0    101\n",
      "3.0     93\n",
      "1.0     70\n",
      "4.0     67\n",
      "Name: count, dtype: int64\n"
     ]
    }
   ],
   "source": [
    "daily_usage_distribution = smmh['daily_social_media_time'].value_counts()\n",
    "print(daily_usage_distribution)\n"
   ]
  },
  {
   "cell_type": "markdown",
   "id": "8322f958",
   "metadata": {
    "papermill": {
     "duration": 0.022871,
     "end_time": "2024-01-16T05:08:31.769929",
     "exception": false,
     "start_time": "2024-01-16T05:08:31.747058",
     "status": "completed"
    },
    "tags": []
   },
   "source": [
    "How often do respondents find themselves using social media without a specific purpose, and how does this vary by gender?"
   ]
  },
  {
   "cell_type": "code",
   "execution_count": 33,
   "id": "b80e3229",
   "metadata": {
    "execution": {
     "iopub.execute_input": "2024-01-16T05:08:31.818960Z",
     "iopub.status.busy": "2024-01-16T05:08:31.817918Z",
     "iopub.status.idle": "2024-01-16T05:08:34.412080Z",
     "shell.execute_reply": "2024-01-16T05:08:34.411112Z"
    },
    "papermill": {
     "duration": 2.623025,
     "end_time": "2024-01-16T05:08:34.416167",
     "exception": false,
     "start_time": "2024-01-16T05:08:31.793142",
     "status": "completed"
    },
    "tags": []
   },
   "outputs": [
    {
     "data": {
      "text/html": [
       "<div>\n",
       "<style scoped>\n",
       "    .dataframe tbody tr th:only-of-type {\n",
       "        vertical-align: middle;\n",
       "    }\n",
       "\n",
       "    .dataframe tbody tr th {\n",
       "        vertical-align: top;\n",
       "    }\n",
       "\n",
       "    .dataframe thead th {\n",
       "        text-align: right;\n",
       "    }\n",
       "</style>\n",
       "<table border=\"1\" class=\"dataframe\">\n",
       "  <thead>\n",
       "    <tr style=\"text-align: right;\">\n",
       "      <th>gender</th>\n",
       "      <th>Female</th>\n",
       "      <th>Male</th>\n",
       "      <th>Others</th>\n",
       "    </tr>\n",
       "  </thead>\n",
       "  <tbody>\n",
       "    <tr>\n",
       "      <th>frequency_social_media_no_purpose</th>\n",
       "      <td>3.608365</td>\n",
       "      <td>3.478673</td>\n",
       "      <td>3.714286</td>\n",
       "    </tr>\n",
       "  </tbody>\n",
       "</table>\n",
       "</div>"
      ],
      "text/plain": [
       "gender                               Female      Male    Others\n",
       "frequency_social_media_no_purpose  3.608365  3.478673  3.714286"
      ]
     },
     "execution_count": 33,
     "metadata": {},
     "output_type": "execute_result"
    }
   ],
   "source": [
    "freq_by_age_gender = smmh.groupby('gender')['frequency_social_media_no_purpose'].mean().reset_index()\n",
    "\n",
    "pivot_table = freq_by_age_gender.pivot_table(columns='gender', values='frequency_social_media_no_purpose')\n",
    "pivot_table\n"
   ]
  },
  {
   "cell_type": "code",
   "execution_count": 24,
   "id": "d03e39e4",
   "metadata": {},
   "outputs": [
    {
     "name": "stdout",
     "output_type": "stream",
     "text": [
      "Correlation between Time Spent on Social Media and Feelings of Restlessness: 0.32\n"
     ]
    },
    {
     "data": {
      "image/png": "[encoded data removed]",
      "text/plain": [
       "<Figure size 1000x600 with 1 Axes>"
      ]
     },
     "metadata": {},
     "output_type": "display_data"
    }
   ],
   "source": [
    "import seaborn as sns \n",
    "\n",
    "# Convert 'daily_social_media_time' to string, extract numeric values, and convert back to numeric\n",
    "smmh['daily_social_media_time'] = smmh['daily_social_media_time'].astype(str).str.extract('(\\d+)')\n",
    "smmh['daily_social_media_time'] = pd.to_numeric(smmh['daily_social_media_time'])\n",
    "\n",
    "# Calculate correlation\n",
    "correlation = smmh['daily_social_media_time'].corr(smmh['restless_without_social_media'])\n",
    "\n",
    "print(f\"Correlation between Time Spent on Social Media and Feelings of Restlessness: {correlation:.2f}\")\n",
    "\n",
    "# Plotting\n",
    "plt.figure(figsize=(10, 6))\n",
    "sns.regplot(x='daily_social_media_time', y='restless_without_social_media', data=smmh, scatter_kws={'alpha':0.5}, line_kws={\"color\": \"orange\"})\n",
    "plt.title('Relationship: Time Spent on Social Media vs. Feelings of Restlessness')\n",
    "plt.xlabel('Daily Time Spent on Social Media (hours)')\n",
    "plt.ylabel('Feelings of Restlessness')\n",
    "plt.grid(True)\n",
    "plt.tight_layout()\n",
    "plt.show()"
   ]
  },
  {
   "cell_type": "markdown",
   "id": "84665a0e",
   "metadata": {
    "papermill": {
     "duration": 0.025988,
     "end_time": "2024-01-16T05:08:35.821252",
     "exception": false,
     "start_time": "2024-01-16T05:08:35.795264",
     "status": "completed"
    },
    "tags": []
   },
   "source": [
    "### Are there any gender-based differences in social media usage patterns and their impact on mental health?"
   ]
  },
  {
   "cell_type": "code",
   "execution_count": 25,
   "id": "f066d2bd",
   "metadata": {
    "execution": {
     "iopub.execute_input": "2024-01-16T05:08:35.876450Z",
     "iopub.status.busy": "2024-01-16T05:08:35.875729Z",
     "iopub.status.idle": "2024-01-16T05:08:36.773482Z",
     "shell.execute_reply": "2024-01-16T05:08:36.772158Z"
    },
    "papermill": {
     "duration": 0.928443,
     "end_time": "2024-01-16T05:08:36.776020",
     "exception": false,
     "start_time": "2024-01-16T05:08:35.847577",
     "status": "completed"
    },
    "tags": []
   },
   "outputs": [
    {
     "data": {
      "image/png": "[encoded data removed]",
      "text/plain": [
       "<Figure size 2000x600 with 1 Axes>"
      ]
     },
     "metadata": {},
     "output_type": "display_data"
    },
    {
     "data": {
      "image/png": "[encoded data removed]",
      "text/plain": [
       "<Figure size 2000x600 with 1 Axes>"
      ]
     },
     "metadata": {},
     "output_type": "display_data"
    }
   ],
   "source": [
    "plt.figure(figsize=(20, 6))\n",
    "sns.boxplot(x='gender', y='distractibility_scale', data=smmh)\n",
    "plt.title('Gender-Based Differences in Distractibility')\n",
    "plt.xlabel('Gender')\n",
    "plt.ylabel('Distractibility Scale')\n",
    "plt.show()\n",
    "\n",
    "plt.figure(figsize=(20, 6))\n",
    "sns.boxplot(x='gender', y='worry_level_scale', data=smmh)\n",
    "plt.title('Gender-Based Differences in Worry Levels')\n",
    "plt.xlabel('Gender')\n",
    "plt.ylabel('Worry Level Scale')\n",
    "plt.show()\n"
   ]
  },
  {
   "cell_type": "markdown",
   "id": "160a84ef",
   "metadata": {},
   "source": [
    "Looks interesting enough to use it for our presentation, I'll export the cleaned dataset and do further visualizations in Tableau"
   ]
  },
  {
   "cell_type": "code",
   "execution_count": 35,
   "id": "0250c5c0",
   "metadata": {},
   "outputs": [],
   "source": [
    "smmh.to_csv('smmh_clean.csv', index=False) "
   ]
  }
 ],
 "metadata": {
  "kaggle": {
   "accelerator": "none",
   "dataSources": [
    {
     "datasetId": 2752689,
     "sourceId": 6154312,
     "sourceType": "datasetVersion"
    }
   ],
   "dockerImageVersionId": 30558,
   "isGpuEnabled": false,
   "isInternetEnabled": true,
   "language": "python",
   "sourceType": "notebook"
  },
  "kernelspec": {
   "display_name": "Python 3",
   "language": "python",
   "name": "python3"
  },
  "language_info": {
   "codemirror_mode": {
    "name": "ipython",
    "version": 3
   },
   "file_extension": ".py",
   "mimetype": "text/x-python",
   "name": "python",
   "nbconvert_exporter": "python",
   "pygments_lexer": "ipython3",
   "version": "3.9.18"
  },
  "papermill": {
   "default_parameters": {},
   "duration": 21.800666,
   "end_time": "2024-01-16T05:08:44.299528",
   "environment_variables": {},
   "exception": null,
   "input_path": "__notebook__.ipynb",
   "output_path": "__notebook__.ipynb",
   "parameters": {},
   "start_time": "2024-01-16T05:08:22.498862",
   "version": "2.4.0"
  }
 },
 "nbformat": 4,
 "nbformat_minor": 5
}
